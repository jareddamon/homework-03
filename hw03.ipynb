{
  "cells": [
    {
      "cell_type": "markdown",
      "metadata": {},
      "source": [
        "# DATASCI 101, Homework 03"
      ]
    },
    {
      "cell_type": "code",
      "execution_count": 19,
      "metadata": {},
      "outputs": [],
      "source": [
        "# basic setup, run this first\n",
        "import warnings\n",
        "warnings.simplefilter(action='ignore', category=FutureWarning)\n",
        "import numpy as np"
      ]
    },
    {
      "cell_type": "markdown",
      "metadata": {},
      "source": [
        "## Question 1\n",
        "\n",
        "We will start this homework with some questions on collections in Python.\n",
        "\n",
        "### Q1.a\n",
        "\n",
        "Recall that *sets* are collections where each value in the collection only appears once.\n",
        "\n",
        "Using the `set` function, turn both of these strings into sets. Then use set methods to find\n",
        "\n",
        "* How many letters are shared between the two names?\n",
        "* Which letters are in \"George Washington\" that are not in \"Abraham Lincoln\"?\n",
        "* How many letters are in neither president's name?\n"
      ]
    },
    {
      "cell_type": "code",
      "execution_count": 20,
      "metadata": {},
      "outputs": [],
      "source": [
        "gw = \"George Washington\".lower()\n",
        "al = \"Abraham Lincoln\".lower()\n",
        "az = \"abcdefghijklmnopqrstuvwxyz\"\n",
        "\n"
      ]
    },
    {
      "cell_type": "code",
      "execution_count": 21,
      "metadata": {},
      "outputs": [],
      "source": [
        "gw_set = set(gw)\n",
        "al_set = set(al)\n",
        "az_set = set(az)"
      ]
    },
    {
      "cell_type": "code",
      "execution_count": 22,
      "metadata": {},
      "outputs": [
        {
          "name": "stdout",
          "output_type": "stream",
          "text": [
            "7\n",
            "{'t', 'g', 'w', 's', 'e'}\n",
            "9\n"
          ]
        }
      ],
      "source": [
        "print(len(gw_set.intersection(al_set)))\n",
        "print(gw_set.difference(al_set))\n",
        "print(len(gw_set.symmetric_difference(al_set)))"
      ]
    },
    {
      "cell_type": "markdown",
      "metadata": {},
      "source": [
        "### Q1.b\n",
        "\n",
        "Use a `for` loop to find the unique values in the lunch orders below. Using Python, print out the number of unique items being ordered. (*Hint*: You can use `set()` to create an empty set.)"
      ]
    },
    {
      "cell_type": "code",
      "execution_count": 23,
      "metadata": {},
      "outputs": [
        {
          "data": {
            "text/plain": [
              "7"
            ]
          },
          "execution_count": 23,
          "metadata": {},
          "output_type": "execute_result"
        }
      ],
      "source": [
        "lunch_orders = [{\"pasta\", \"coffee\"},\n",
        "                {\"fries\",\"sandwich\", \"cookie\"},\n",
        "                {\"pasta\", \"salad\", \"water\"},\n",
        "                {\"salad\", \"pasta\", \"coffee\"},\n",
        "                {\"sandwich\", \"water\"}]\n",
        "\n",
        "unique_items = set()\n",
        "\n",
        "for order in lunch_orders:\n",
        "    unique_items.update(order)\n",
        "\n",
        "len(unique_items)\n"
      ]
    },
    {
      "cell_type": "markdown",
      "metadata": {},
      "source": [
        "### Q1.c\n",
        "\n",
        "Here is a menu at the resturant, with items and their cost:\n",
        "\n",
        "| Item | Price | Vegetarian |\n",
        "| --- | --- | --- |\n",
        "| salad | 8 | True |\n",
        "| soup | 5 | False |\n",
        "| pasta | 12 | True |\n",
        "| sandwich | 9 | False |\n",
        "| burger | 13 | False |\n",
        "| fries | 6 | True |\n",
        "| cake | 6 | True |\n",
        "| cookie| 3 | True |\n",
        "| water | 0 | True |\n",
        "| coffee| 2 | True |\n",
        "| soda | 3 | True |\n",
        "\n",
        "Create a dictionary called `menu` that has the item names as keys and a two-tuple with (price, vegetarian) as the value.\n",
        "\n",
        "Demonstrate by retrieving the price and vegetarian status of \"burger\".\n",
        "\n",
        "\n",
        "\n",
        "### Q1.d\n",
        "\n",
        "Write a function that takes a lunch order (a set of menu items) and returns the total price.\n",
        "\n",
        "Write a function that takes a lunch order a returns true if the entire order is vegetarian.\n",
        "\n",
        "Use list comprehensions to compute the price of each order and whether each order is vegtarian."
      ]
    },
    {
      "cell_type": "code",
      "execution_count": 24,
      "metadata": {},
      "outputs": [
        {
          "data": {
            "text/plain": [
              "(13, False)"
            ]
          },
          "execution_count": 24,
          "metadata": {},
          "output_type": "execute_result"
        }
      ],
      "source": [
        "# ANSWER TO QUESTION 1C\n",
        "\n",
        "menu = {\n",
        "       \"salad\": (8, True),\n",
        "        \"soup\": (5, False),\n",
        "        \"pasta\": (12, True),\n",
        "        \"sandwich\": (9, False),\n",
        "        \"Burger\": (13, False),\n",
        "        \"fries\": (6, True),\n",
        "        \"cake\": (6, True),\n",
        "        \"cookie\": (3, True),\n",
        "        \"water\": (0, True),\n",
        "        \"coffee\": (2, True),\n",
        "        \"soda\": (3, True)\n",
        "        }       \n",
        "\n",
        "menu[\"Burger\"]\n",
        "# FAlSE means not vegetarian"
      ]
    },
    {
      "cell_type": "code",
      "execution_count": 25,
      "metadata": {},
      "outputs": [],
      "source": [
        "#ANSWER to QUESTIOn 1d\n",
        "\n",
        "def total_price(lunch_orders, menu):\n",
        "    return sum(menu[item][0] for item in lunch_orders)\n",
        "\n",
        "def vegetarian_food(lunch_orders, menu):\n",
        "    return all(menu[item][1] for item in lunch_orders)\n",
        "\n",
        "order_prices = [total_price(order, menu) for order in lunch_orders]\n",
        "order_vegetarian_status = [vegetarian_food(order, menu) for order in lunch_orders]\n",
        "\n",
        "\n",
        "# Hints: try running the following code\n",
        "# (\"this\", \"is\", \"a tuple\")[1]\n",
        "# [s.upper() for s in {\"hello\", \"world\"}]"
      ]
    },
    {
      "cell_type": "markdown",
      "metadata": {},
      "source": [
        "### Q1.e\n",
        "\n",
        "When you have completed your menu in the part (c) you can remove the `#` charcters make this code run:"
      ]
    },
    {
      "cell_type": "code",
      "execution_count": 26,
      "metadata": {},
      "outputs": [
        {
          "name": "stdout",
          "output_type": "stream",
          "text": [
            "13\n",
            "Burger\n",
            "8\n"
          ]
        }
      ],
      "source": [
        "menu_dict = {\n",
        " \"name\": list(menu.keys()),\n",
        " \"price\": [i[0] for i in menu.values()],\n",
        " \"vegetarian\": [i[1] for i in menu.values()]\n",
        " }\n",
        "\n",
        "\n",
        "print(max(menu_dict[\"price\"]))\n",
        "print(menu_dict[\"name\"][np.argmax(menu_dict[\"price\"])])\n",
        "print(sum(menu_dict[\"vegetarian\"]))\n"
      ]
    },
    {
      "cell_type": "markdown",
      "metadata": {},
      "source": [
        "Use this table to compute the following:\n",
        "\n",
        "* What is the price of the most expensive item in the list?\n",
        "* What is the name of the most expensive item? (You can use the `np.argmax()` function to help you.)\n",
        "* How many vegetarian items are there?\n",
        "\n",
        "\n",
        "\n",
        "### Question 2"
      ]
    },
    {
      "cell_type": "code",
      "execution_count": 27,
      "metadata": {},
      "outputs": [],
      "source": [
        "# run this to do question 2\n",
        "import pandas as pd"
      ]
    },
    {
      "cell_type": "markdown",
      "metadata": {},
      "source": [
        "### Q2.a\n",
        "\n",
        "Here's a Pandas `DataFrame` version of our menu table."
      ]
    },
    {
      "cell_type": "code",
      "execution_count": 28,
      "metadata": {},
      "outputs": [],
      "source": [
        "menu_df = pd.DataFrame({'name': ['salad',\n",
        "  'soup',\n",
        "  'pasta',\n",
        "  'sandwich',\n",
        "  'burger',\n",
        "  'fries',\n",
        "  'cake',\n",
        "  'cookie',\n",
        "  'water',\n",
        "  'coffee',\n",
        "  'soda'],\n",
        " 'price': [8, 5, 12, 9, 13, 6, 6, 3, 0, 2, 3],\n",
        " 'vegetarian': [True,\n",
        "  False,\n",
        "  True,\n",
        "  False,\n",
        "  False,\n",
        "  True,\n",
        "  True,\n",
        "  True,\n",
        "  True,\n",
        "  True,\n",
        "  True]})"
      ]
    },
    {
      "cell_type": "markdown",
      "metadata": {},
      "source": [
        "Using **methods** for Series objects (i.e., methods called on the columns of the table. Compute the following:\n",
        "\n",
        "* The name of the least expensive item on the list.\n",
        "* The number of items that cost between 5 and 10 dollars (inclusive).\n",
        "* The names all of vegetarian items that cost more than 10 dollars."
      ]
    },
    {
      "cell_type": "code",
      "execution_count": 29,
      "metadata": {},
      "outputs": [
        {
          "name": "stdout",
          "output_type": "stream",
          "text": [
            "water\n",
            "5\n",
            "['pasta']\n"
          ]
        }
      ],
      "source": [
        "print(menu_df[\"name\"][menu_df['price'].idxmin()])\n",
        "\n",
        "between_5_to_10 = menu_df[(menu_df['price'] >= 5) & (menu_df['price'] <= 10)].shape[0]\n",
        "print(between_5_to_10)\n",
        "\n",
        "vegetarian_over_10 = menu_df[(menu_df['price'] > 10) & (menu_df['vegetarian'])]['name'].tolist()\n",
        "print(vegetarian_over_10)\n"
      ]
    },
    {
      "cell_type": "markdown",
      "metadata": {},
      "source": [
        "### Q2.b\n",
        "\n",
        "Create a table that is only composed of items that cost less than or equal to $5 (call the `value_items`).\n"
      ]
    },
    {
      "cell_type": "code",
      "execution_count": 30,
      "metadata": {},
      "outputs": [
        {
          "data": {
            "text/html": [
              "<div>\n",
              "<style scoped>\n",
              "    .dataframe tbody tr th:only-of-type {\n",
              "        vertical-align: middle;\n",
              "    }\n",
              "\n",
              "    .dataframe tbody tr th {\n",
              "        vertical-align: top;\n",
              "    }\n",
              "\n",
              "    .dataframe thead th {\n",
              "        text-align: right;\n",
              "    }\n",
              "</style>\n",
              "<table border=\"1\" class=\"dataframe\">\n",
              "  <thead>\n",
              "    <tr style=\"text-align: right;\">\n",
              "      <th></th>\n",
              "      <th>name</th>\n",
              "      <th>price</th>\n",
              "      <th>vegetarian</th>\n",
              "    </tr>\n",
              "  </thead>\n",
              "  <tbody>\n",
              "    <tr>\n",
              "      <th>1</th>\n",
              "      <td>soup</td>\n",
              "      <td>5</td>\n",
              "      <td>False</td>\n",
              "    </tr>\n",
              "    <tr>\n",
              "      <th>7</th>\n",
              "      <td>cookie</td>\n",
              "      <td>3</td>\n",
              "      <td>True</td>\n",
              "    </tr>\n",
              "    <tr>\n",
              "      <th>8</th>\n",
              "      <td>water</td>\n",
              "      <td>0</td>\n",
              "      <td>True</td>\n",
              "    </tr>\n",
              "    <tr>\n",
              "      <th>9</th>\n",
              "      <td>coffee</td>\n",
              "      <td>2</td>\n",
              "      <td>True</td>\n",
              "    </tr>\n",
              "    <tr>\n",
              "      <th>10</th>\n",
              "      <td>soda</td>\n",
              "      <td>3</td>\n",
              "      <td>True</td>\n",
              "    </tr>\n",
              "  </tbody>\n",
              "</table>\n",
              "</div>"
            ],
            "text/plain": [
              "      name  price  vegetarian\n",
              "1     soup      5       False\n",
              "7   cookie      3        True\n",
              "8    water      0        True\n",
              "9   coffee      2        True\n",
              "10    soda      3        True"
            ]
          },
          "execution_count": 30,
          "metadata": {},
          "output_type": "execute_result"
        }
      ],
      "source": [
        "value_items = menu_df[menu_df['price'] <= 5]\n",
        "value_items"
      ]
    },
    {
      "cell_type": "markdown",
      "metadata": {},
      "source": [
        "How many vegetarian items are in this menu?"
      ]
    },
    {
      "cell_type": "code",
      "execution_count": 31,
      "metadata": {},
      "outputs": [
        {
          "data": {
            "text/plain": [
              "4"
            ]
          },
          "execution_count": 31,
          "metadata": {},
          "output_type": "execute_result"
        }
      ],
      "source": [
        "sum(value_items['vegetarian'])"
      ]
    },
    {
      "cell_type": "markdown",
      "metadata": {},
      "source": [
        "## Q2.c\n",
        "\n",
        "Let's use these techniques on some real data!"
      ]
    },
    {
      "cell_type": "code",
      "execution_count": 32,
      "metadata": {},
      "outputs": [
        {
          "data": {
            "text/plain": [
              "Index(['duration_ms', 'track.explicit', 'key', 'danceability', 'energy',\n",
              "       'loudness', 'acousticness', 'instrumentalness', 'liveness', 'tempo',\n",
              "       'time_signature', 'track.popularity', 'track.album.release_date',\n",
              "       'track.name', 'artist.name'],\n",
              "      dtype='object')"
            ]
          },
          "execution_count": 32,
          "metadata": {},
          "output_type": "execute_result"
        }
      ],
      "source": [
        "spotify = pd.read_csv(\"./spotify.csv\")\n",
        "spotify.columns"
      ]
    },
    {
      "cell_type": "markdown",
      "metadata": {},
      "source": [
        "Using Python and Pandas, answer the following questions:\n",
        "\n",
        "* How many songs have a popularity greater than 80?\n",
        "* For songs with a popularity greater than 80, what is the shortest song (in miliseconds)?\n",
        "* What is the name of the song with popularity greater than 80 that has the slowest tempo?"
      ]
    },
    {
      "cell_type": "code",
      "execution_count": 33,
      "metadata": {},
      "outputs": [
        {
          "name": "stdout",
          "output_type": "stream",
          "text": [
            "84\n",
            "109091\n",
            "Lover\n"
          ]
        }
      ],
      "source": [
        "greater_than_80 = spotify[spotify['track.popularity'] > 80].shape[0]\n",
        "print(greater_than_80)\n",
        "\n",
        "shortest_popular_song = spotify[spotify['track.popularity'] > 80]['duration_ms'].min()\n",
        "print(shortest_popular_song)\n",
        "\n",
        "popular_songs = spotify[spotify['track.popularity'] > 80]\n",
        "slowest_popular_song = popular_songs[\"track.name\"][popular_songs[\"tempo\"].idxmin()]\n",
        "print(slowest_popular_song)\n",
        "\n",
        "\n"
      ]
    },
    {
      "cell_type": "markdown",
      "metadata": {},
      "source": [
        "### Q2.d\n",
        "\n",
        "Here is a little code that will create a new column with four (approximately) evenly sized groups based on popularly (low, medium, medium high, and high). The code after creating the columns shows how many rows are in each group. There are a few songs with the same popularity value, which makes it difficult to get exactly evenly sized groups, but this is pretty close. The `(a, b]` output on the left shows the popularity range of that group."
      ]
    },
    {
      "cell_type": "code",
      "execution_count": 34,
      "metadata": {},
      "outputs": [
        {
          "data": {
            "text/plain": [
              "popgrp\n",
              "(-0.001, 41.0]    250\n",
              "(53.0, 67.0]      242\n",
              "(67.0, 100.0]     238\n",
              "(41.0, 53.0]      237\n",
              "Name: count, dtype: int64"
            ]
          },
          "execution_count": 34,
          "metadata": {},
          "output_type": "execute_result"
        }
      ],
      "source": [
        "spotify[\"popgrp\"] = pd.qcut(spotify[\"track.popularity\"], 4)\n",
        "spotify[\"popgrp\"].value_counts()"
      ]
    },
    {
      "cell_type": "markdown",
      "metadata": {},
      "source": [
        "For each group, find the number of explicit songs using the `\"track.explicit\"` column. Which group has the most explicit songs?"
      ]
    },
    {
      "cell_type": "code",
      "execution_count": 35,
      "metadata": {},
      "outputs": [
        {
          "name": "stdout",
          "output_type": "stream",
          "text": [
            "(67.0, 100.0]\n"
          ]
        }
      ],
      "source": [
        "explicit_songs_per_group = spotify.groupby(\"popgrp\")[\"track.explicit\"].sum()\n",
        "print(explicit_songs_per_group.idxmax())\n"
      ]
    },
    {
      "cell_type": "markdown",
      "metadata": {},
      "source": [
        "### Q2.e\n",
        "\n",
        "Create a new column that is the product of `danceability` and `energy`. Find the song with the highest product of danceability and energy. Find the tempo of this song. Is it a particularly fast song in terms of tempo? How many songs are faster than this song? How many are slower?"
      ]
    },
    {
      "cell_type": "code",
      "execution_count": 36,
      "metadata": {},
      "outputs": [
        {
          "name": "stdout",
          "output_type": "stream",
          "text": [
            "Song name with highest dance_energy:  Miracle - Radio Edit\n",
            "Tempo of the song with highest dance_energy:  121.98\n",
            "Song is fast\n",
            "Number of songs faster than highest dance_energy song: 394\n",
            "Number of songs slower than highest dance_energy song: 571\n"
          ]
        }
      ],
      "source": [
        "spotify[\"dance_energy\"] = spotify[\"danceability\"] * spotify[\"energy\"]\n",
        "\n",
        "print(f\"Song name with highest dance_energy: \", spotify[\"track.name\"][spotify[\"dance_energy\"].idxmax()])\n",
        "print(f\"Tempo of the song with highest dance_energy: \", spotify[\"tempo\"][spotify[\"dance_energy\"].idxmax()])\n",
        "\n",
        "if (spotify[\"tempo\"][spotify[\"dance_energy\"].idxmax()] > 90):\n",
        "    print(\"Song is fast\")\n",
        "else:\n",
        "    print(\"Song is moderate/slow\")\n",
        "\n",
        "fast_songs = len(spotify[spotify[\"tempo\"] > spotify[\"tempo\"][spotify[\"dance_energy\"].idxmax()]])\n",
        "print(f\"Number of songs faster than highest dance_energy song: {fast_songs}\")\n",
        "\n",
        "slow_songs = len(spotify[spotify[\"tempo\"] < spotify[\"tempo\"][spotify[\"dance_energy\"].idxmax()]])\n",
        "print(f\"Number of songs slower than highest dance_energy song: {slow_songs}\")\n"
      ]
    }
  ],
  "metadata": {
    "kernelspec": {
      "display_name": "Python 3 (ipykernel)",
      "language": "python",
      "name": "python3",
      "path": "/Users/mark/Documents/Professional/Teaching/umich/data-science-101-materials/env/share/jupyter/kernels/python3"
    },
    "language_info": {
      "codemirror_mode": {
        "name": "ipython",
        "version": 3
      },
      "file_extension": ".py",
      "mimetype": "text/x-python",
      "name": "python",
      "nbconvert_exporter": "python",
      "pygments_lexer": "ipython3",
      "version": "3.12.1"
    }
  },
  "nbformat": 4,
  "nbformat_minor": 4
}
